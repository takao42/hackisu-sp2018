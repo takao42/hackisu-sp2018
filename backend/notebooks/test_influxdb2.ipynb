{
 "cells": [
  {
   "cell_type": "code",
   "execution_count": 12,
   "metadata": {
    "collapsed": true
   },
   "outputs": [],
   "source": [
    "from influxdb import InfluxDBClient"
   ]
  },
  {
   "cell_type": "code",
   "execution_count": 13,
   "metadata": {},
   "outputs": [],
   "source": [
    "client = InfluxDBClient(host='localhost', port=8086)"
   ]
  },
  {
   "cell_type": "code",
   "execution_count": 14,
   "metadata": {},
   "outputs": [],
   "source": [
    "client.create_database('eeg_test')"
   ]
  },
  {
   "cell_type": "code",
   "execution_count": 15,
   "metadata": {},
   "outputs": [
    {
     "data": {
      "text/plain": [
       "[{'name': '_internal'}, {'name': 'test'}, {'name': 'eeg_test'}]"
      ]
     },
     "execution_count": 15,
     "metadata": {},
     "output_type": "execute_result"
    }
   ],
   "source": [
    "client.get_list_database()"
   ]
  },
  {
   "cell_type": "code",
   "execution_count": 16,
   "metadata": {},
   "outputs": [],
   "source": [
    "client.switch_database('eeg_test')"
   ]
  },
  {
   "cell_type": "code",
   "execution_count": 24,
   "metadata": {},
   "outputs": [
    {
     "data": {
      "text/plain": [
       "[{'fields': {'Q': 1062.5952144534256,\n   'R': 1561.704870565966,\n   'S': 44.45597824225809,\n   'T': 217.6890686651401},\n  'measurement': 'data',\n  'tags': {'userID': 'steve'},\n  'time': '2018-10-20T17:04:18.969406+00:00'},\n {'fields': {'Q': 1162.3777105257082,\n   'R': 333.0040835411235,\n   'S': 284.86553626553126,\n   'T': 37.12272400618031},\n  'measurement': 'data',\n  'tags': {'userID': 'steve'},\n  'time': '2018-10-20T17:04:19.969406+00:00'}]"
      ]
     },
     "execution_count": 24,
     "metadata": {},
     "output_type": "execute_result"
    }
   ],
   "source": [
    "import random, datetime\n",
    "\n",
    "\n",
    "def gen_rand_eeg():\n",
    "    return {\n",
    "        \"Q\": random.uniform(0, 1682.815),\n",
    "        \"R\": random.uniform(0, 1682.815),\n",
    "        \"S\": random.uniform(0, 1682.815),\n",
    "        \"T\": random.uniform(0, 1682.815)\n",
    "    }\n",
    "\n",
    "\n",
    "def gen_rand_data():\n",
    "    data = []\n",
    "    timenow = datetime.datetime.now(datetime.timezone.utc)\n",
    "    for i in range(1000):\n",
    "        timenow += datetime.timedelta(seconds=1)\n",
    "        data.append({\n",
    "            'measurement': 'data',\n",
    "            'tags': {\n",
    "                'userID': 'steve'\n",
    "            },\n",
    "            'time': timenow.isoformat(),\n",
    "            'fields': gen_rand_eeg()\n",
    "        })\n",
    "    return data\n",
    "\n",
    "\n",
    "data = gen_rand_data()\n",
    "data[0:2]"
   ]
  },
  {
   "cell_type": "code",
   "execution_count": 25,
   "metadata": {},
   "outputs": [
    {
     "data": {
      "text/plain": [
       "True"
      ]
     },
     "execution_count": 25,
     "metadata": {},
     "output_type": "execute_result"
    }
   ],
   "source": [
    "client.write_points(data)"
   ]
  },
  {
   "cell_type": "code",
   "execution_count": 23,
   "metadata": {},
   "outputs": [
    {
     "data": {
      "text/plain": [
       "{'statement_id': 0}"
      ]
     },
     "execution_count": 23,
     "metadata": {},
     "output_type": "execute_result"
    }
   ],
   "source": [
    "results = client.query('SELECT * FROM \"eeg_test\".\"autogen\".\"data\" WHERE time > now() - 10000s GROUP BY \"user\"')\n",
    "results.raw"
   ]
  },
  {
   "cell_type": "code",
   "execution_count": 23,
   "metadata": {},
   "outputs": [
    {
     "name": "stdout",
     "output_type": "stream",
     "text": [
      "time: 2018-03-28T08:01:00Z duration: 127\ntime: 2018-03-29T08:04:00Z duration: 132\ntime: 2018-03-30T08:02:00Z duration: 129\n"
     ]
    }
   ],
   "source": [
    "points = results.get_points(tags={'user':'Carol'})\n",
    "\n",
    "for point in points:\n",
    "    print('time: {} duration: {}'.format(point['time'], point['duration']))"
   ]
  },
  {
   "cell_type": "code",
   "execution_count": null,
   "metadata": {},
   "outputs": [],
   "source": []
  }
 ],
 "metadata": {
  "kernelspec": {
   "display_name": "Python 2",
   "language": "python",
   "name": "python2"
  },
  "language_info": {
   "codemirror_mode": {
    "name": "ipython",
    "version": 2
   },
   "file_extension": ".py",
   "mimetype": "text/x-python",
   "name": "python",
   "nbconvert_exporter": "python",
   "pygments_lexer": "ipython2",
   "version": "2.7.6"
  }
 },
 "nbformat": 4,
 "nbformat_minor": 0
}
